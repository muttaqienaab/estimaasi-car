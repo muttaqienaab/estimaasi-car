{
 "cells": [
  {
   "attachments": {},
   "cell_type": "markdown",
   "metadata": {},
   "source": [
    "# Library yang akan digunakan"
   ]
  },
  {
   "cell_type": "code",
   "execution_count": 1,
   "metadata": {},
   "outputs": [],
   "source": [
    "import pandas as pd\n",
    "import numpy as np\n",
    "import matplotlib.pyplot as plt\n",
    "import seaborn as sns"
   ]
  },
  {
   "attachments": {},
   "cell_type": "markdown",
   "metadata": {},
   "source": [
    "# Memanggil dataset"
   ]
  },
  {
   "cell_type": "code",
   "execution_count": 2,
   "metadata": {},
   "outputs": [],
   "source": [
    "df = pd.read_csv('USA_cars_datasets.csv')"
   ]
  },
  {
   "attachments": {},
   "cell_type": "markdown",
   "metadata": {},
   "source": [
    "## BUSSINESS UNDERSTANDING\n",
    "\n",
    "Pada tahapan ini kita membutuhkan pengetahuan dari objek bisnis, bagaimana membangun atau mendapatkan data,\n",
    "dan bagaimana untuk mencocokan tujuan pemodelan untuk tujuan bisnis sehingga model terbaik dapat dibangun.\n",
    "Banyaknya penduduk menyebabkan banyaknya pengguna sepeda motor di India.\n",
    "Namun, karena sulitnya ekonomi membuat masyarakat di India lebih memilih membeli motor bekas dikarenakan harga nya lebih terjangkau.\n",
    "Dari dataset berikut ini berisi sekitar 32649 motor bekas yang ada di India yang diambil dari www.droom.in')\n",
    "Tujuan dari analisis ini untuk mengetahui estimasi harga motor bekas yang ada di India.')\n",
    "https://www.kaggle.com/datasets/saisaathvik/used-bikes-prices-in-india')"
   ]
  },
  {
   "attachments": {},
   "cell_type": "markdown",
   "metadata": {},
   "source": [
    "# DATA UNDERSTANDING\n",
    "\n",
    "Tahap ini memberikan fondasi analitik untuk sebuah penelitian dengan membuat ringkasaan (summary) dan mengidentifikasi potensi masalah dalam data.\n",
    "Dari data yang telah diambil mengenai harga motor bekas di India, terdapat 8 kolom yang berisi 4 kolom objek dan 4 kolom float.\n",
    "Jika menggunakan regresi linear, maka hanya kolom yang berisi float saja yang bisa diolah.\n",
    "1. bike_name (nama motor) = objek\n",
    "2. price (harga) = float\n",
    "3. city (nama kota) = objek\n",
    "4. kms_driven (jumlah km yang telah ditempuh) = float\n",
    "5. owner (pemilik, apakah pemilik motor tersebut merupakan pemilik pertama, kedua, atau ketiga) = objek\n",
    "6. age (umur motor) = float\n",
    "7. power (tenaga motor/cc) = float\n",
    "8. brand (nama pabrikan motor) = objek"
   ]
  },
  {
   "attachments": {},
   "cell_type": "markdown",
   "metadata": {},
   "source": [
    "# Deskripsi dataset"
   ]
  },
  {
   "cell_type": "code",
   "execution_count": 3,
   "metadata": {},
   "outputs": [
    {
     "data": {
      "text/html": [
       "<div>\n",
       "<style scoped>\n",
       "    .dataframe tbody tr th:only-of-type {\n",
       "        vertical-align: middle;\n",
       "    }\n",
       "\n",
       "    .dataframe tbody tr th {\n",
       "        vertical-align: top;\n",
       "    }\n",
       "\n",
       "    .dataframe thead th {\n",
       "        text-align: right;\n",
       "    }\n",
       "</style>\n",
       "<table border=\"1\" class=\"dataframe\">\n",
       "  <thead>\n",
       "    <tr style=\"text-align: right;\">\n",
       "      <th></th>\n",
       "      <th>Unnamed: 0</th>\n",
       "      <th>price</th>\n",
       "      <th>brand</th>\n",
       "      <th>model</th>\n",
       "      <th>year</th>\n",
       "      <th>title_status</th>\n",
       "      <th>mileage</th>\n",
       "      <th>color</th>\n",
       "      <th>vin</th>\n",
       "      <th>lot</th>\n",
       "      <th>state</th>\n",
       "      <th>country</th>\n",
       "      <th>condition</th>\n",
       "    </tr>\n",
       "  </thead>\n",
       "  <tbody>\n",
       "    <tr>\n",
       "      <th>0</th>\n",
       "      <td>0</td>\n",
       "      <td>6300</td>\n",
       "      <td>toyota</td>\n",
       "      <td>cruiser</td>\n",
       "      <td>2008</td>\n",
       "      <td>clean vehicle</td>\n",
       "      <td>274117.0</td>\n",
       "      <td>black</td>\n",
       "      <td>jtezu11f88k007763</td>\n",
       "      <td>159348797</td>\n",
       "      <td>new jersey</td>\n",
       "      <td>usa</td>\n",
       "      <td>10 days left</td>\n",
       "    </tr>\n",
       "    <tr>\n",
       "      <th>1</th>\n",
       "      <td>1</td>\n",
       "      <td>2899</td>\n",
       "      <td>ford</td>\n",
       "      <td>se</td>\n",
       "      <td>2011</td>\n",
       "      <td>clean vehicle</td>\n",
       "      <td>190552.0</td>\n",
       "      <td>silver</td>\n",
       "      <td>2fmdk3gc4bbb02217</td>\n",
       "      <td>166951262</td>\n",
       "      <td>tennessee</td>\n",
       "      <td>usa</td>\n",
       "      <td>6 days left</td>\n",
       "    </tr>\n",
       "    <tr>\n",
       "      <th>2</th>\n",
       "      <td>2</td>\n",
       "      <td>5350</td>\n",
       "      <td>dodge</td>\n",
       "      <td>mpv</td>\n",
       "      <td>2018</td>\n",
       "      <td>clean vehicle</td>\n",
       "      <td>39590.0</td>\n",
       "      <td>silver</td>\n",
       "      <td>3c4pdcgg5jt346413</td>\n",
       "      <td>167655728</td>\n",
       "      <td>georgia</td>\n",
       "      <td>usa</td>\n",
       "      <td>2 days left</td>\n",
       "    </tr>\n",
       "    <tr>\n",
       "      <th>3</th>\n",
       "      <td>3</td>\n",
       "      <td>25000</td>\n",
       "      <td>ford</td>\n",
       "      <td>door</td>\n",
       "      <td>2014</td>\n",
       "      <td>clean vehicle</td>\n",
       "      <td>64146.0</td>\n",
       "      <td>blue</td>\n",
       "      <td>1ftfw1et4efc23745</td>\n",
       "      <td>167753855</td>\n",
       "      <td>virginia</td>\n",
       "      <td>usa</td>\n",
       "      <td>22 hours left</td>\n",
       "    </tr>\n",
       "    <tr>\n",
       "      <th>4</th>\n",
       "      <td>4</td>\n",
       "      <td>27700</td>\n",
       "      <td>chevrolet</td>\n",
       "      <td>1500</td>\n",
       "      <td>2018</td>\n",
       "      <td>clean vehicle</td>\n",
       "      <td>6654.0</td>\n",
       "      <td>red</td>\n",
       "      <td>3gcpcrec2jg473991</td>\n",
       "      <td>167763266</td>\n",
       "      <td>florida</td>\n",
       "      <td>usa</td>\n",
       "      <td>22 hours left</td>\n",
       "    </tr>\n",
       "  </tbody>\n",
       "</table>\n",
       "</div>"
      ],
      "text/plain": [
       "   Unnamed: 0  price      brand    model  year   title_status   mileage  \\\n",
       "0           0   6300     toyota  cruiser  2008  clean vehicle  274117.0   \n",
       "1           1   2899       ford       se  2011  clean vehicle  190552.0   \n",
       "2           2   5350      dodge      mpv  2018  clean vehicle   39590.0   \n",
       "3           3  25000       ford     door  2014  clean vehicle   64146.0   \n",
       "4           4  27700  chevrolet     1500  2018  clean vehicle    6654.0   \n",
       "\n",
       "    color                  vin        lot       state country      condition  \n",
       "0   black    jtezu11f88k007763  159348797  new jersey     usa   10 days left  \n",
       "1  silver    2fmdk3gc4bbb02217  166951262   tennessee     usa    6 days left  \n",
       "2  silver    3c4pdcgg5jt346413  167655728     georgia     usa    2 days left  \n",
       "3    blue    1ftfw1et4efc23745  167753855    virginia     usa  22 hours left  \n",
       "4     red    3gcpcrec2jg473991  167763266     florida     usa  22 hours left  "
      ]
     },
     "execution_count": 3,
     "metadata": {},
     "output_type": "execute_result"
    }
   ],
   "source": [
    "df.head()"
   ]
  },
  {
   "attachments": {},
   "cell_type": "markdown",
   "metadata": {},
   "source": [
    "# DATA PREPARATION"
   ]
  },
  {
   "cell_type": "code",
   "execution_count": 5,
   "metadata": {},
   "outputs": [
    {
     "name": "stdout",
     "output_type": "stream",
     "text": [
      "<class 'pandas.core.frame.DataFrame'>\n",
      "RangeIndex: 2499 entries, 0 to 2498\n",
      "Data columns (total 13 columns):\n",
      " #   Column        Non-Null Count  Dtype  \n",
      "---  ------        --------------  -----  \n",
      " 0   Unnamed: 0    2499 non-null   int64  \n",
      " 1   price         2499 non-null   int64  \n",
      " 2   brand         2499 non-null   object \n",
      " 3   model         2499 non-null   object \n",
      " 4   year          2499 non-null   int64  \n",
      " 5   title_status  2499 non-null   object \n",
      " 6   mileage       2499 non-null   float64\n",
      " 7   color         2499 non-null   object \n",
      " 8   vin           2499 non-null   object \n",
      " 9   lot           2499 non-null   int64  \n",
      " 10  state         2499 non-null   object \n",
      " 11  country       2499 non-null   object \n",
      " 12  condition     2499 non-null   object \n",
      "dtypes: float64(1), int64(4), object(8)\n",
      "memory usage: 253.9+ KB\n"
     ]
    }
   ],
   "source": [
    "df.info()"
   ]
  },
  {
   "cell_type": "code",
   "execution_count": 6,
   "metadata": {},
   "outputs": [
    {
     "data": {
      "text/plain": [
       "<AxesSubplot:>"
      ]
     },
     "execution_count": 6,
     "metadata": {},
     "output_type": "execute_result"
    },
    {
     "data": {
      "image/png": "[encoded data removed]",
      "text/plain": [
       "<Figure size 432x288 with 2 Axes>"
      ]
     },
     "metadata": {
      "needs_background": "light"
     },
     "output_type": "display_data"
    }
   ],
   "source": [
    "sns.heatmap(df.isnull())"
   ]
  },
  {
   "cell_type": "code",
   "execution_count": 7,
   "metadata": {},
   "outputs": [
    {
     "data": {
      "text/html": [
       "<div>\n",
       "<style scoped>\n",
       "    .dataframe tbody tr th:only-of-type {\n",
       "        vertical-align: middle;\n",
       "    }\n",
       "\n",
       "    .dataframe tbody tr th {\n",
       "        vertical-align: top;\n",
       "    }\n",
       "\n",
       "    .dataframe thead th {\n",
       "        text-align: right;\n",
       "    }\n",
       "</style>\n",
       "<table border=\"1\" class=\"dataframe\">\n",
       "  <thead>\n",
       "    <tr style=\"text-align: right;\">\n",
       "      <th></th>\n",
       "      <th>Unnamed: 0</th>\n",
       "      <th>price</th>\n",
       "      <th>year</th>\n",
       "      <th>mileage</th>\n",
       "      <th>lot</th>\n",
       "    </tr>\n",
       "  </thead>\n",
       "  <tbody>\n",
       "    <tr>\n",
       "      <th>count</th>\n",
       "      <td>2499.000000</td>\n",
       "      <td>2499.000000</td>\n",
       "      <td>2499.000000</td>\n",
       "      <td>2.499000e+03</td>\n",
       "      <td>2.499000e+03</td>\n",
       "    </tr>\n",
       "    <tr>\n",
       "      <th>mean</th>\n",
       "      <td>1249.000000</td>\n",
       "      <td>18767.671469</td>\n",
       "      <td>2016.714286</td>\n",
       "      <td>5.229869e+04</td>\n",
       "      <td>1.676914e+08</td>\n",
       "    </tr>\n",
       "    <tr>\n",
       "      <th>std</th>\n",
       "      <td>721.543484</td>\n",
       "      <td>12116.094936</td>\n",
       "      <td>3.442656</td>\n",
       "      <td>5.970552e+04</td>\n",
       "      <td>2.038772e+05</td>\n",
       "    </tr>\n",
       "    <tr>\n",
       "      <th>min</th>\n",
       "      <td>0.000000</td>\n",
       "      <td>0.000000</td>\n",
       "      <td>1973.000000</td>\n",
       "      <td>0.000000e+00</td>\n",
       "      <td>1.593488e+08</td>\n",
       "    </tr>\n",
       "    <tr>\n",
       "      <th>25%</th>\n",
       "      <td>624.500000</td>\n",
       "      <td>10200.000000</td>\n",
       "      <td>2016.000000</td>\n",
       "      <td>2.146650e+04</td>\n",
       "      <td>1.676253e+08</td>\n",
       "    </tr>\n",
       "    <tr>\n",
       "      <th>50%</th>\n",
       "      <td>1249.000000</td>\n",
       "      <td>16900.000000</td>\n",
       "      <td>2018.000000</td>\n",
       "      <td>3.536500e+04</td>\n",
       "      <td>1.677451e+08</td>\n",
       "    </tr>\n",
       "    <tr>\n",
       "      <th>75%</th>\n",
       "      <td>1873.500000</td>\n",
       "      <td>25555.500000</td>\n",
       "      <td>2019.000000</td>\n",
       "      <td>6.347250e+04</td>\n",
       "      <td>1.677798e+08</td>\n",
       "    </tr>\n",
       "    <tr>\n",
       "      <th>max</th>\n",
       "      <td>2498.000000</td>\n",
       "      <td>84900.000000</td>\n",
       "      <td>2020.000000</td>\n",
       "      <td>1.017936e+06</td>\n",
       "      <td>1.678055e+08</td>\n",
       "    </tr>\n",
       "  </tbody>\n",
       "</table>\n",
       "</div>"
      ],
      "text/plain": [
       "        Unnamed: 0         price         year       mileage           lot\n",
       "count  2499.000000   2499.000000  2499.000000  2.499000e+03  2.499000e+03\n",
       "mean   1249.000000  18767.671469  2016.714286  5.229869e+04  1.676914e+08\n",
       "std     721.543484  12116.094936     3.442656  5.970552e+04  2.038772e+05\n",
       "min       0.000000      0.000000  1973.000000  0.000000e+00  1.593488e+08\n",
       "25%     624.500000  10200.000000  2016.000000  2.146650e+04  1.676253e+08\n",
       "50%    1249.000000  16900.000000  2018.000000  3.536500e+04  1.677451e+08\n",
       "75%    1873.500000  25555.500000  2019.000000  6.347250e+04  1.677798e+08\n",
       "max    2498.000000  84900.000000  2020.000000  1.017936e+06  1.678055e+08"
      ]
     },
     "execution_count": 7,
     "metadata": {},
     "output_type": "execute_result"
    }
   ],
   "source": [
    "df.describe()"
   ]
  },
  {
   "attachments": {},
   "cell_type": "markdown",
   "metadata": {},
   "source": [
    "# visualisasi data"
   ]
  },
  {
   "cell_type": "code",
   "execution_count": 8,
   "metadata": {},
   "outputs": [
    {
     "data": {
      "text/plain": [
       "<AxesSubplot:>"
      ]
     },
     "execution_count": 8,
     "metadata": {},
     "output_type": "execute_result"
    },
    {
     "data": {
      "image/png": "[encoded data removed]",
      "text/plain": [
       "<Figure size 720x432 with 2 Axes>"
      ]
     },
     "metadata": {
      "needs_background": "light"
     },
     "output_type": "display_data"
    }
   ],
   "source": [
    "plt.figure(figsize=(10,6))\n",
    "sns.heatmap(df.corr(), annot=True)"
   ]
  },
  {
   "attachments": {},
   "cell_type": "markdown",
   "metadata": {},
   "source": [
    "# Jumlah mobil berdasarkan model"
   ]
  },
  {
   "cell_type": "code",
   "execution_count": 15,
   "metadata": {},
   "outputs": [],
   "source": [
    "brands = df.groupby('model').count()[['color']].sort_values(by='color', ascending=True).reset_index()\n",
    "brands = brands.rename(columns={'color':'jumlah_mobil'})"
   ]
  },
  {
   "cell_type": "code",
   "execution_count": 16,
   "metadata": {},
   "outputs": [
    {
     "data": {
      "text/plain": [
       "(array([  0,   1,   2,   3,   4,   5,   6,   7,   8,   9,  10,  11,  12,\n",
       "         13,  14,  15,  16,  17,  18,  19,  20,  21,  22,  23,  24,  25,\n",
       "         26,  27,  28,  29,  30,  31,  32,  33,  34,  35,  36,  37,  38,\n",
       "         39,  40,  41,  42,  43,  44,  45,  46,  47,  48,  49,  50,  51,\n",
       "         52,  53,  54,  55,  56,  57,  58,  59,  60,  61,  62,  63,  64,\n",
       "         65,  66,  67,  68,  69,  70,  71,  72,  73,  74,  75,  76,  77,\n",
       "         78,  79,  80,  81,  82,  83,  84,  85,  86,  87,  88,  89,  90,\n",
       "         91,  92,  93,  94,  95,  96,  97,  98,  99, 100, 101, 102, 103,\n",
       "        104, 105, 106, 107, 108, 109, 110, 111, 112, 113, 114, 115, 116,\n",
       "        117, 118, 119, 120, 121, 122, 123, 124, 125, 126]),\n",
       " [Text(0, 0, 'xterra'),\n",
       "  Text(1, 0, 'dart'),\n",
       "  Text(2, 0, 'discovery'),\n",
       "  Text(3, 0, 'sportage'),\n",
       "  Text(4, 0, 'spark'),\n",
       "  Text(5, 0, 'dr'),\n",
       "  Text(6, 0, 'soul'),\n",
       "  Text(7, 0, 'mdx'),\n",
       "  Text(8, 0, 'e-class'),\n",
       "  Text(9, 0, 'sl-class'),\n",
       "  Text(10, 0, 'xt5'),\n",
       "  Text(11, 0, 'nvp'),\n",
       "  Text(12, 0, 'elantra'),\n",
       "  Text(13, 0, 'energi'),\n",
       "  Text(14, 0, 'se'),\n",
       "  Text(15, 0, 'esv'),\n",
       "  Text(16, 0, 'road/street'),\n",
       "  Text(17, 0, 'q70'),\n",
       "  Text(18, 0, 'q5'),\n",
       "  Text(19, 0, 'glc'),\n",
       "  Text(20, 0, 'f-750'),\n",
       "  Text(21, 0, 'ghibli'),\n",
       "  Text(22, 0, 'pioneer'),\n",
       "  Text(23, 0, 'gx'),\n",
       "  Text(24, 0, 'srx'),\n",
       "  Text(25, 0, 'cx-3'),\n",
       "  Text(26, 0, 'utility'),\n",
       "  Text(27, 0, 'limited'),\n",
       "  Text(28, 0, 'cruiser'),\n",
       "  Text(29, 0, 'acadia'),\n",
       "  Text(30, 0, '5'),\n",
       "  Text(31, 0, 'm'),\n",
       "  Text(32, 0, 'trail'),\n",
       "  Text(33, 0, 'kicks'),\n",
       "  Text(34, 0, 'vehicl'),\n",
       "  Text(35, 0, 'juke'),\n",
       "  Text(36, 0, 'suv'),\n",
       "  Text(37, 0, 'connect'),\n",
       "  Text(38, 0, 'convertible'),\n",
       "  Text(39, 0, '2500hd'),\n",
       "  Text(40, 0, 'xd'),\n",
       "  Text(41, 0, 'sundance'),\n",
       "  Text(42, 0, 'nautilus'),\n",
       "  Text(43, 0, 'x3'),\n",
       "  Text(44, 0, 'volt'),\n",
       "  Text(45, 0, 'bus'),\n",
       "  Text(46, 0, 'cruze'),\n",
       "  Text(47, 0, 'vans'),\n",
       "  Text(48, 0, 'enclave'),\n",
       "  Text(49, 0, 'cargo'),\n",
       "  Text(50, 0, 'sonic'),\n",
       "  Text(51, 0, 'note'),\n",
       "  Text(52, 0, 'd'),\n",
       "  Text(53, 0, 'country'),\n",
       "  Text(54, 0, 'gle'),\n",
       "  Text(55, 0, 'forte'),\n",
       "  Text(56, 0, 'ld'),\n",
       "  Text(57, 0, 'maxima'),\n",
       "  Text(58, 0, 'passenger'),\n",
       "  Text(59, 0, 'f-650'),\n",
       "  Text(60, 0, 'encore'),\n",
       "  Text(61, 0, 'el'),\n",
       "  Text(62, 0, 'cherokee'),\n",
       "  Text(63, 0, 'pacifica'),\n",
       "  Text(64, 0, 'sedan'),\n",
       "  Text(65, 0, 'corvette'),\n",
       "  Text(66, 0, 'chassis'),\n",
       "  Text(67, 0, 'truck'),\n",
       "  Text(68, 0, 'armada'),\n",
       "  Text(69, 0, '3500'),\n",
       "  Text(70, 0, 'pk'),\n",
       "  Text(71, 0, 'titan'),\n",
       "  Text(72, 0, 'murano'),\n",
       "  Text(73, 0, 'sorento'),\n",
       "  Text(74, 0, 'hybrid'),\n",
       "  Text(75, 0, 'coupe'),\n",
       "  Text(76, 0, '300'),\n",
       "  Text(77, 0, 'camaro'),\n",
       "  Text(78, 0, 'traverse'),\n",
       "  Text(79, 0, 'compass'),\n",
       "  Text(80, 0, 'ranger'),\n",
       "  Text(81, 0, 'ecosport'),\n",
       "  Text(82, 0, 'trax'),\n",
       "  Text(83, 0, 'cab'),\n",
       "  Text(84, 0, 'series'),\n",
       "  Text(85, 0, '2500'),\n",
       "  Text(86, 0, 'tahoe'),\n",
       "  Text(87, 0, 'focus'),\n",
       "  Text(88, 0, 'taurus'),\n",
       "  Text(89, 0, 'drw'),\n",
       "  Text(90, 0, 'impala'),\n",
       "  Text(91, 0, 'malibu'),\n",
       "  Text(92, 0, 'cutaway'),\n",
       "  Text(93, 0, 'colorado'),\n",
       "  Text(94, 0, 'frontier'),\n",
       "  Text(95, 0, 'fiesta'),\n",
       "  Text(96, 0, 'pickup'),\n",
       "  Text(97, 0, 'suburban'),\n",
       "  Text(98, 0, 'equinox'),\n",
       "  Text(99, 0, 'altima'),\n",
       "  Text(100, 0, 'pathfinder'),\n",
       "  Text(101, 0, 'sentra'),\n",
       "  Text(102, 0, 'expedition'),\n",
       "  Text(103, 0, 'mustang'),\n",
       "  Text(104, 0, 'wagon'),\n",
       "  Text(105, 0, 'flex'),\n",
       "  Text(106, 0, 'edge'),\n",
       "  Text(107, 0, 'versa'),\n",
       "  Text(108, 0, 'srw'),\n",
       "  Text(109, 0, '1500'),\n",
       "  Text(110, 0, 'escape'),\n",
       "  Text(111, 0, 'explorer'),\n",
       "  Text(112, 0, 'sport'),\n",
       "  Text(113, 0, 'max'),\n",
       "  Text(114, 0, 'transit'),\n",
       "  Text(115, 0, 'charger'),\n",
       "  Text(116, 0, 'challenger'),\n",
       "  Text(117, 0, 'van'),\n",
       "  Text(118, 0, 'rogue'),\n",
       "  Text(119, 0, 'journey'),\n",
       "  Text(120, 0, 'durango'),\n",
       "  Text(121, 0, 'fusion'),\n",
       "  Text(122, 0, 'mpv'),\n",
       "  Text(123, 0, 'caravan'),\n",
       "  Text(124, 0, 'doors'),\n",
       "  Text(125, 0, 'f-150'),\n",
       "  Text(126, 0, 'door')])"
      ]
     },
     "execution_count": 16,
     "metadata": {},
     "output_type": "execute_result"
    },
    {
     "data": {
      "image/png": "[encoded data removed]",
      "text/plain": [
       "<Figure size 1080x360 with 1 Axes>"
      ]
     },
     "metadata": {
      "needs_background": "light"
     },
     "output_type": "display_data"
    }
   ],
   "source": [
    "fig = plt.figure(figsize=(15,5))\n",
    "sns.barplot(x=brands['model'], y=brands['jumlah_mobil'], color='blue')\n",
    "plt.xticks(rotation=60)"
   ]
  },
  {
   "attachments": {},
   "cell_type": "markdown",
   "metadata": {},
   "source": [
    "# MODELLING DATA"
   ]
  },
  {
   "attachments": {},
   "cell_type": "markdown",
   "metadata": {},
   "source": [
    "# Seleksi fitur"
   ]
  },
  {
   "cell_type": "code",
   "execution_count": 18,
   "metadata": {},
   "outputs": [
    {
     "data": {
      "text/plain": [
       "((2499, 3), (2499,))"
      ]
     },
     "execution_count": 18,
     "metadata": {},
     "output_type": "execute_result"
    }
   ],
   "source": [
    "fitur = ['year', 'mileage', 'lot']\n",
    "x = df[fitur]\n",
    "y = df['price']\n",
    "x.shape, y.shape"
   ]
  },
  {
   "attachments": {},
   "cell_type": "markdown",
   "metadata": {},
   "source": [
    "# split data training dan testing"
   ]
  },
  {
   "cell_type": "code",
   "execution_count": 19,
   "metadata": {},
   "outputs": [
    {
     "data": {
      "text/plain": [
       "(625,)"
      ]
     },
     "execution_count": 19,
     "metadata": {},
     "output_type": "execute_result"
    }
   ],
   "source": [
    "from sklearn.model_selection import train_test_split\n",
    "x_train, X_test, y_train, y_test = train_test_split(x,y,random_state=70)\n",
    "y_test.shape"
   ]
  },
  {
   "attachments": {},
   "cell_type": "markdown",
   "metadata": {},
   "source": [
    "# membuat regresi linier"
   ]
  },
  {
   "cell_type": "code",
   "execution_count": 20,
   "metadata": {},
   "outputs": [],
   "source": [
    "from sklearn.linear_model import LinearRegression\n",
    "lr = LinearRegression()\n",
    "lr.fit(x_train,y_train)\n",
    "predik = lr.predict(X_test)"
   ]
  },
  {
   "attachments": {},
   "cell_type": "markdown",
   "metadata": {},
   "source": [
    "# EVALUATION DATA"
   ]
  },
  {
   "cell_type": "code",
   "execution_count": 21,
   "metadata": {},
   "outputs": [
    {
     "name": "stdout",
     "output_type": "stream",
     "text": [
      "Akurasi Model Regresi Linier :  0.18981928978314577\n"
     ]
    }
   ],
   "source": [
    "nilai = lr.score(X_test, y_test)\n",
    "print('Akurasi Model Regresi Linier : ', nilai)"
   ]
  },
  {
   "attachments": {},
   "cell_type": "markdown",
   "metadata": {},
   "source": [
    "# membuat inputan regresi linier"
   ]
  },
  {
   "attachments": {},
   "cell_type": "markdown",
   "metadata": {},
   "source": [
    "Evaluation"
   ]
  },
  {
   "cell_type": "code",
   "execution_count": 30,
   "metadata": {},
   "outputs": [
    {
     "name": "stdout",
     "output_type": "stream",
     "text": [
      "Estimasi Harga Mobil :  [-675373.53194707]\n"
     ]
    },
    {
     "name": "stderr",
     "output_type": "stream",
     "text": [
      "C:\\Users\\USER\\AppData\\Local\\Packages\\PythonSoftwareFoundation.Python.3.7_qbz5n2kfra8p0\\LocalCache\\local-packages\\Python37\\site-packages\\sklearn\\base.py:451: UserWarning: X does not have valid feature names, but LinearRegression was fitted with feature names\n",
      "  \"X does not have valid feature names, but\"\n"
     ]
    }
   ],
   "source": [
    "inputan = np.array([[2019, 22543, 1.6762]])\n",
    "prediksi = lr.predict(inputan)\n",
    "print('Estimasi Harga Mobil : ', prediksi)"
   ]
  },
  {
   "attachments": {},
   "cell_type": "markdown",
   "metadata": {},
   "source": [
    "# DEPLOYMENT"
   ]
  },
  {
   "attachments": {},
   "cell_type": "markdown",
   "metadata": {},
   "source": [
    "# Save model"
   ]
  },
  {
   "cell_type": "code",
   "execution_count": 23,
   "metadata": {},
   "outputs": [],
   "source": [
    "import pickle\n",
    "filename = 'estimasi_cars.sav'\n",
    "pickle.dump(lr,open(filename,'wb'))"
   ]
  }
 ],
 "metadata": {
  "kernelspec": {
   "display_name": "Python 3.7.9 64-bit (microsoft store)",
   "language": "python",
   "name": "python3"
  },
  "language_info": {
   "codemirror_mode": {
    "name": "ipython",
    "version": 3
   },
   "file_extension": ".py",
   "mimetype": "text/x-python",
   "name": "python",
   "nbconvert_exporter": "python",
   "pygments_lexer": "ipython3",
   "version": "3.7.9"
  },
  "orig_nbformat": 4,
  "vscode": {
   "interpreter": {
    "hash": "784a0799c0dae6dba3c15d23f5950f5cac127d4542c4889e7ad9101ae93f3407"
   }
  }
 },
 "nbformat": 4,
 "nbformat_minor": 2
}
